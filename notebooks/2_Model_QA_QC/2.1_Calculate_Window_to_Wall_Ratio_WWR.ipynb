{
 "cells": [
  {
   "cell_type": "code",
   "execution_count": null,
   "id": "949d3a8b-684e-42b4-8b61-1a9d1b728943",
   "metadata": {},
   "outputs": [],
   "source": [
    "# Notebook Section: Run Task\n",
    "\n",
    "from openstudio_toolkit.utils.osm_utils import load_osm_file_as_model\n",
    "from openstudio_toolkit.tasks.model_qa_qc import calculate_wwr\n",
    "\n",
    "# 1. Load Model\n",
    "osm_file_path = 'path/to/your/model.osm'\n",
    "osm_model = load_osm_file_as_model(osm_file_path)\n",
    "\n",
    "# 2. Validate Model\n",
    "print(\"--- Validating Model for WWR Task ---\")\n",
    "validation_report = calculate_wwr.validator(osm_model)\n",
    "for msg in validation_report['messages']:\n",
    "    print(msg)\n",
    "print(\"-----------------------------------\")\n",
    "\n",
    "# 3. Run Task and Show Results\n",
    "if validation_report['status'] == 'READY':\n",
    "    wwr_results_df = calculate_wwr.run(osm_model)\n",
    "    print(\"\\\\n📊 WWR Results:\")\n",
    "    display(wwr_results_df)\n",
    "else:\n",
    "    print(\"\\\\nTask did not run due to validation errors.\")"
   ]
  }
 ],
 "metadata": {
  "kernelspec": {
   "display_name": "Python (openstudio_3_7)",
   "language": "python",
   "name": "openstudio_3_7"
  },
  "language_info": {
   "codemirror_mode": {
    "name": "ipython",
    "version": 3
   },
   "file_extension": ".py",
   "mimetype": "text/x-python",
   "name": "python",
   "nbconvert_exporter": "python",
   "pygments_lexer": "ipython3",
   "version": "3.11.13"
  }
 },
 "nbformat": 4,
 "nbformat_minor": 5
}
